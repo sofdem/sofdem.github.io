{
  "cells": [
    {
      "cell_type": "markdown",
      "id": "5afe40df-408b-4a31-9a27-996327cd834e",
      "metadata": {
        "id": "5afe40df-408b-4a31-9a27-996327cd834e"
      },
      "source": [
        "\n",
        "# Dimensionnement de canalisations"
      ]
    },
    {
      "cell_type": "code",
      "execution_count": null,
      "id": "25851ad8-9a93-4b51-9d05-dabf46816768",
      "metadata": {
        "id": "25851ad8-9a93-4b51-9d05-dabf46816768"
      },
      "outputs": [],
      "source": [
        "%pip install gurobipy\n",
        "from gurobipy import Model, GRB, LinExpr, multidict\n",
        "#import utils_display\n",
        "import pandas as pd\n",
        "import matplotlib.pyplot as plt"
      ]
    },
    {
      "cell_type": "markdown",
      "id": "8fadedd9-172f-4230-b8d9-3fe4832eef51",
      "metadata": {
        "id": "8fadedd9-172f-4230-b8d9-3fe4832eef51"
      },
      "source": [
        "### Données du problème\n"
      ]
    },
    {
      "cell_type": "code",
      "execution_count": null,
      "id": "082affd4-f3a6-4546-bf0a-1559a50f8c83",
      "metadata": {
        "id": "082affd4-f3a6-4546-bf0a-1559a50f8c83"
      },
      "outputs": [],
      "source": [
        "pipe = ['C1','C2']   # les canalisations a installer\n",
        "diam_max = [40, 60]  # diametre maximal (en cm) pour chaque canalisation\n",
        "cost = [3, 2]        # cout (en euros/cm) d'installation en fonction du diametre pour chaque canalisation\n",
        "flow = [3, 5]        # debit (en unite/cm) en fonction du diametre pour chaque canalisation\n",
        "budget = 180         # budget max (en euros) d'installation\n",
        "\n",
        "VERBOSE = False"
      ]
    },
    {
      "cell_type": "markdown",
      "id": "87b961b8-e782-4a3f-b4d5-1be9b7d50c16",
      "metadata": {
        "id": "87b961b8-e782-4a3f-b4d5-1be9b7d50c16"
      },
      "source": [
        "### Modèle mathématique\n",
        "\n",
        "\\begin{align}\n",
        "max &\\sum_{p} Flow_p * diam_p\\\\\n",
        "s.t.: &\\sum_{p} Cost_p * diam_p \\le Budget\\\\\n",
        "&0\\le diam_p \\le MaxDiam_p &&\\ \\forall p\\\\\n",
        "\\end{align}"
      ]
    },
    {
      "cell_type": "code",
      "execution_count": null,
      "id": "01873cf9-b6c6-4cca-8c05-68fcb3fa452c",
      "metadata": {
        "id": "01873cf9-b6c6-4cca-8c05-68fcb3fa452c"
      },
      "outputs": [],
      "source": [
        "m = Model('canalisations')"
      ]
    },
    {
      "cell_type": "markdown",
      "id": "f4f07481-8c61-40de-876f-c35aeacba011",
      "metadata": {
        "id": "f4f07481-8c61-40de-876f-c35aeacba011"
      },
      "source": [
        "### Variables de décisions"
      ]
    },
    {
      "cell_type": "code",
      "execution_count": null,
      "id": "80ce4c54-8e37-494c-a2ef-e3223fd16acc",
      "metadata": {
        "id": "80ce4c54-8e37-494c-a2ef-e3223fd16acc"
      },
      "outputs": [],
      "source": [
        "diam = m.addVars(pipe, lb=0, ub=diam_max, vtype=GRB.CONTINUOUS, name=\"D\") # diametre pour chaque canalisation\n",
        "m.update()\n",
        "cost_diam = LinExpr(cost, diam.values())  # cout d'installation pour la solution diam (somme ponderee des variables par les couts)\n",
        "flow_diam = LinExpr(flow, diam.values())  # debit pour la solution diam (somme ponderee des variables par les debits)"
      ]
    },
    {
      "cell_type": "markdown",
      "id": "2f6ee518-b30e-4bd4-8cf2-7c903a832ca9",
      "metadata": {
        "id": "2f6ee518-b30e-4bd4-8cf2-7c903a832ca9"
      },
      "source": [
        "## Contraintes et objectif"
      ]
    },
    {
      "cell_type": "code",
      "execution_count": null,
      "id": "41f267bf-b001-45e1-813e-dd39ce006e60",
      "metadata": {
        "id": "41f267bf-b001-45e1-813e-dd39ce006e60"
      },
      "outputs": [],
      "source": [
        "\n",
        "ctbudget = m.addConstr(cost_diam <= budget)\n",
        "m.setObjective(flow_diam, GRB.MAXIMIZE)"
      ]
    },
    {
      "cell_type": "markdown",
      "id": "2fb3fe28-5dfa-442f-bae0-f86426b0486d",
      "metadata": {
        "id": "2fb3fe28-5dfa-442f-bae0-f86426b0486d"
      },
      "source": [
        "### Optimisation"
      ]
    },
    {
      "cell_type": "code",
      "execution_count": null,
      "id": "fd87d0c9-cc21-4fdc-bd5e-1fa5b4bd9fd3",
      "metadata": {
        "id": "fd87d0c9-cc21-4fdc-bd5e-1fa5b4bd9fd3"
      },
      "outputs": [],
      "source": [
        "m.optimize()"
      ]
    },
    {
      "cell_type": "code",
      "execution_count": null,
      "id": "951a0f42-c462-4617-8b88-b6031701d32f",
      "metadata": {
        "scrolled": true,
        "id": "951a0f42-c462-4617-8b88-b6031701d32f"
      },
      "outputs": [],
      "source": [
        "m.display()\n",
        "m.write(\"myfirst.lp\")"
      ]
    },
    {
      "cell_type": "markdown",
      "id": "0fb3f1d9-4fcf-4a60-a31e-28f8527d100c",
      "metadata": {
        "jp-MarkdownHeadingCollapsed": true,
        "id": "0fb3f1d9-4fcf-4a60-a31e-28f8527d100c"
      },
      "source": [
        "### Résultats"
      ]
    },
    {
      "cell_type": "code",
      "execution_count": null,
      "id": "adf4d6ba-98fb-45f6-9b55-92f132d3cc2e",
      "metadata": {
        "id": "adf4d6ba-98fb-45f6-9b55-92f132d3cc2e"
      },
      "outputs": [],
      "source": [
        "m.printStats()"
      ]
    },
    {
      "cell_type": "code",
      "execution_count": null,
      "id": "8f726945-b821-4555-8f3d-fda7f227eee5",
      "metadata": {
        "id": "8f726945-b821-4555-8f3d-fda7f227eee5"
      },
      "outputs": [],
      "source": [
        "# caractéristiques de la solution\n",
        "result = {'obj': m.objVal, 'lb': m.objBound, 'time': m.runtime}\n",
        "print(result)"
      ]
    },
    {
      "cell_type": "code",
      "execution_count": null,
      "id": "3e33194f-417b-4a32-ba29-6c79200cfce8",
      "metadata": {
        "id": "3e33194f-417b-4a32-ba29-6c79200cfce8"
      },
      "outputs": [],
      "source": [
        "# installation optimale\n",
        "xdict = {c: diam[c].x for c in pipe}\n",
        "print(f\"diametres a installer: {xdict}\")\n",
        "\n",
        "costval = cost_diam.getValue()\n",
        "flowval = flow_diam.getValue()\n",
        "print(f\"cout = {costval}, debit = {flowval}\")"
      ]
    }
  ],
  "metadata": {
    "kernelspec": {
      "display_name": "Python 3 (ipykernel)",
      "language": "python",
      "name": "python3"
    },
    "language_info": {
      "codemirror_mode": {
        "name": "ipython",
        "version": 3
      },
      "file_extension": ".py",
      "mimetype": "text/x-python",
      "name": "python",
      "nbconvert_exporter": "python",
      "pygments_lexer": "ipython3",
      "version": "3.11.4"
    },
    "colab": {
      "provenance": []
    }
  },
  "nbformat": 4,
  "nbformat_minor": 5
}